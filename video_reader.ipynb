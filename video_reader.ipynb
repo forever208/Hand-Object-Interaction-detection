{
 "metadata": {
  "language_info": {
   "codemirror_mode": {
    "name": "ipython",
    "version": 3
   },
   "file_extension": ".py",
   "mimetype": "text/x-python",
   "name": "python",
   "nbconvert_exporter": "python",
   "pygments_lexer": "ipython3",
   "version": "3.7.10"
  },
  "orig_nbformat": 2,
  "kernelspec": {
   "name": "python3",
   "display_name": "Python 3.7.10 64-bit ('hoid3.7': conda)",
   "metadata": {
    "interpreter": {
     "hash": "0a89ccd40213510f439eae5c4979d0310e2dacc03358f3d7e8ac883ce8b953f1"
    }
   }
  }
 },
 "nbformat": 4,
 "nbformat_minor": 2,
 "cells": [
  {
   "cell_type": "code",
   "execution_count": 1,
   "metadata": {},
   "outputs": [],
   "source": [
    "import cv2\n",
    "from PIL import Image, ImageDraw, ImageFont\n",
    "import numpy as np"
   ]
  },
  {
   "cell_type": "code",
   "execution_count": null,
   "metadata": {},
   "outputs": [],
   "source": [
    "# capture from video\n",
    "vc=cv2.VideoCapture(video_path)\n",
    "success, frame = videoCapture.read()"
   ]
  },
  {
   "cell_type": "code",
   "execution_count": null,
   "metadata": {},
   "outputs": [],
   "source": [
    "# capture from camera\n",
    "vc=cv2.VideoCapture(video_path)"
   ]
  },
  {
   "cell_type": "code",
   "execution_count": null,
   "metadata": {},
   "outputs": [],
   "source": [
    "def gain_box_score(im, class_name, dets, start_time,time_takes,thresh=0.5):\n",
    "    \"\"\"Draw detected bounding boxes.\"\"\"\n",
    "    inds = np.where(dets[:, -1] >= thresh)[0]  #返回置信度大于阈值的窗口下标  \n",
    "    if  len(inds) == 0:\n",
    "        cv2.imshow(\"视频检测\",im)\n",
    "    else:\n",
    " \n",
    "        im = im[:, :, (2, 1, 0)]\n",
    "        zhfont = matplotlib.font_manager.FontProperties(fname=\"/usr/share/fonts/truetype/arphic/ukai.ttc\") #字体  \n",
    "        fig, ax = plt.subplots(figsize=(12, 12))\n",
    "        ax.imshow(im, aspect='equal')\n",
    "        for i in inds:\n",
    "            bbox = dets[i, :4]    #坐标位置（Xmin,Ymin,Xmax,Ymax）\n",
    "            score = dets[i, -1]   #置信度得分\n",
    "    #- -------------------  开始画框 -----------------------      \n",
    "            x1 = bbox[0]\n",
    "            y1 = bbox[1] \n",
    "            x2 = bbox[2] \n",
    "            y2 = bbox[3]\n",
    "            im = im.astype('uint8')\n",
    "            im = im[:,:,[2,1,0]]\n",
    "            im = im.copy()\n",
    "            end_time = time.time()\n",
    "            current_time = time.ctime() #获得当前系统时间\n",
    "            fps = round(1/(end_time - start_time),2)\n",
    "            cv2.rectangle(im, (x1, y1), (x2, y2), (0, 255, 0), 5) # 用矩形圈出人  \n",
    "            cv2.putText(im, str(round(score,2)), (int(x1+x2)/2,int(y2-y2/20)),cv2.FONT_HERSHEY_SIMPLEX, 1, (255,0,0), 2) #显示物体的得分\n",
    "            cv2.putText(im, str(class_name), (x1,int(y2-y2/20)),cv2.FONT_HERSHEY_SIMPLEX, 1, (255,255,255), 2) #显示物体的类别\n",
    "            cv2.putText(im, str(current_time), (30,30),cv2.FONT_HERSHEY_SIMPLEX, 1, (255,255,255), 2) #显示时间\n",
    "            \n",
    "            cv2.putText(im, \"fps:\"+str(fps), (30,60),cv2.FONT_HERSHEY_SIMPLEX, 1, (255,255,255), 2) #显示帧率\n",
    "            cv2.putText(im, \"takes time :\"+str(round(time_takes*1000,1))+\"ms\", (30,90),cv2.FONT_HERSHEY_SIMPLEX, 1, (255,255,255), 2) #显示检测时间\n",
    "            cv2.imshow(\"视频检测\",im)\n"
   ]
  },
  {
   "cell_type": "code",
   "execution_count": 2,
   "metadata": {},
   "outputs": [
    {
     "output_type": "error",
     "ename": "AttributeError",
     "evalue": "module 'cv2.cv2' has no attribute 'wait'",
     "traceback": [
      "\u001b[0;31m---------------------------------------------------------------------------\u001b[0m",
      "\u001b[0;31mAttributeError\u001b[0m                            Traceback (most recent call last)",
      "\u001b[0;32m<ipython-input-2-a393d36ef98b>\u001b[0m in \u001b[0;36m<module>\u001b[0;34m\u001b[0m\n\u001b[1;32m      3\u001b[0m \u001b[0mcv2\u001b[0m\u001b[0;34m.\u001b[0m\u001b[0mimshow\u001b[0m\u001b[0;34m(\u001b[0m\u001b[0;34m'image'\u001b[0m\u001b[0;34m,\u001b[0m\u001b[0mim\u001b[0m\u001b[0;34m)\u001b[0m\u001b[0;34m\u001b[0m\u001b[0;34m\u001b[0m\u001b[0m\n\u001b[1;32m      4\u001b[0m \u001b[0;34m\u001b[0m\u001b[0m\n\u001b[0;32m----> 5\u001b[0;31m \u001b[0mcv2\u001b[0m\u001b[0;34m.\u001b[0m\u001b[0mwait\u001b[0m\u001b[0;34m(\u001b[0m\u001b[0;36m0\u001b[0m\u001b[0;34m)\u001b[0m\u001b[0;34m\u001b[0m\u001b[0;34m\u001b[0m\u001b[0m\n\u001b[0m",
      "\u001b[0;31mAttributeError\u001b[0m: module 'cv2.cv2' has no attribute 'wait'"
     ]
    }
   ],
   "source": [
    "im = cv2.imread(\"/home/walter/Pictures/3F006CA900000578-0-image-a-21_1491475782242(复件).jpg\")\n",
    "cv2.rectangle(im, (30,64),(444,666), (0, 200, 255), 4)\n",
    "cv2.imshow('image',im)\n",
    "\n",
    "cv2.waitKey(0)\n"
   ]
  },
  {
   "cell_type": "code",
   "execution_count": 21,
   "metadata": {},
   "outputs": [
    {
     "output_type": "stream",
     "name": "stdout",
     "text": [
      "<class 'PIL.JpegImagePlugin.JpegImageFile'>\n"
     ]
    }
   ],
   "source": [
    "im = Image.open(\"/home/walter/Pictures/3F006CA900000578-0-image-a-21_1491475782242(复件).jpg\")\n",
    "print(type(im))\n",
    "draw = ImageDraw.Draw(im)\n",
    "draw.rectangle((20, 20, 200, 100), fill=(255,255,255), outline=\"#FF0000\", width=3)\n",
    "#"
   ]
  },
  {
   "cell_type": "code",
   "execution_count": 15,
   "metadata": {},
   "outputs": [
    {
     "output_type": "stream",
     "name": "stdout",
     "text": [
      "0 0\n1 1\n2 2\n3 3\n4 4\n5 5\n6 6\n7 7\n8 8\n9 9\n"
     ]
    }
   ],
   "source": [
    "for obj_idx, i in enumerate(range(np.minimum(10, 10))):\n",
    "    print(obj_idx,i)"
   ]
  },
  {
   "cell_type": "code",
   "execution_count": null,
   "metadata": {},
   "outputs": [],
   "source": []
  }
 ]
}